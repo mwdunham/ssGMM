{
 "cells": [
  {
   "cell_type": "markdown",
   "metadata": {},
   "source": [
    "# Part II - testing ssGMM\n",
    "\n",
    "* Part I  - estimating missing log values\n",
    "* **Part II - testing ssGMM**\n",
    "* Part III - facies classification using ssGMM\n",
    "\n",
    "**Author: Michael W. Dunham**\n",
    "\n",
    "**Date: October 25, 2019**\n",
    "\n",
    "This Jupyter notebook is Part II in a series that focuses on performing an initial test of the ssGMM code on the well log dataset. We begin by first loading the complete dataset from Part I. The second stage is splitting the data into training and test sets as outlined in the C&G publication. Next, we standardize/scale the data using the [RobustScaler](https://scikit-learn.org/stable/modules/generated/sklearn.preprocessing.RobustScaler.html) method.\n",
    "\n",
    "When applying the ssGMM code to this situation, as noted in Section 4.1 - Initial ssGMM test from the publication, the convergence is poor. I subseqently show that this phenomenon is attributed to the non-marine/marine indicator (NM_M) violating the underlying Gaussian assumption of ssGMM. We then split the dataset into two pieces based on this variable, i.e. the non-marine and marine datasets. The convergence is shown to behave correctly on the two split datasets in comparison to the standard/global dataset."
   ]
  },
  {
   "cell_type": "code",
   "execution_count": 1,
   "metadata": {},
   "outputs": [],
   "source": [
    "%matplotlib inline\n",
    "import pandas as pd\n",
    "import numpy as np\n",
    "import matplotlib as mpl\n",
    "import matplotlib.pyplot as plt\n",
    "import matplotlib.colors as colors\n",
    "from mpl_toolkits.axes_grid1 import make_axes_locatable\n",
    "\n",
    "from sklearn.preprocessing import RobustScaler\n",
    "from sklearn.metrics import confusion_matrix, classification_report"
   ]
  },
  {
   "cell_type": "code",
   "execution_count": 2,
   "metadata": {},
   "outputs": [
    {
     "name": "stdout",
     "output_type": "stream",
     "text": [
      "This Jupyter-Notebook has been executed using the following packages/versions:\n",
      "Python:       3.7.3 (default, Mar 27 2019, 17:13:21) [MSC v.1915 64 bit (AMD64)]\n",
      "Pandas:       0.24.2\n",
      "Numpy:        1.16.2\n",
      "Matplotlib:   3.0.3\n",
      "Sklearn:      0.20.3\n"
     ]
    }
   ],
   "source": [
    "import sys, sklearn, xgboost, joblib\n",
    "print('This Jupyter-Notebook has been executed using the following packages/versions:')\n",
    "print('Python:       ' + sys.version.split('\\n')[0])\n",
    "print('Pandas:       ' + pd.__version__)\n",
    "print('Numpy:        ' + np.__version__)\n",
    "print('Matplotlib:   ' + mpl.__version__)\n",
    "print('Sklearn:      ' + sklearn.__version__)"
   ]
  },
  {
   "cell_type": "markdown",
   "metadata": {},
   "source": [
    "# Loading the well log dataset\n",
    "* This is the dataset created from Part I that has PE values estimated for the KIMZEY and ALEXANDER wells"
   ]
  },
  {
   "cell_type": "code",
   "execution_count": 3,
   "metadata": {},
   "outputs": [
    {
     "data": {
      "text/html": [
       "<div>\n",
       "<style scoped>\n",
       "    .dataframe tbody tr th:only-of-type {\n",
       "        vertical-align: middle;\n",
       "    }\n",
       "\n",
       "    .dataframe tbody tr th {\n",
       "        vertical-align: top;\n",
       "    }\n",
       "\n",
       "    .dataframe thead th {\n",
       "        text-align: right;\n",
       "    }\n",
       "</style>\n",
       "<table border=\"1\" class=\"dataframe\">\n",
       "  <thead>\n",
       "    <tr style=\"text-align: right;\">\n",
       "      <th></th>\n",
       "      <th>Facies</th>\n",
       "      <th>Depth</th>\n",
       "      <th>GR</th>\n",
       "      <th>ILD_log10</th>\n",
       "      <th>DeltaPHI</th>\n",
       "      <th>PHIND</th>\n",
       "      <th>PE</th>\n",
       "      <th>NM_M</th>\n",
       "      <th>RELPOS</th>\n",
       "    </tr>\n",
       "  </thead>\n",
       "  <tbody>\n",
       "    <tr>\n",
       "      <th>count</th>\n",
       "      <td>4149.000000</td>\n",
       "      <td>4149.000000</td>\n",
       "      <td>4149.000000</td>\n",
       "      <td>4149.000000</td>\n",
       "      <td>4149.000000</td>\n",
       "      <td>4149.000000</td>\n",
       "      <td>4137.000000</td>\n",
       "      <td>4149.000000</td>\n",
       "      <td>4149.000000</td>\n",
       "    </tr>\n",
       "    <tr>\n",
       "      <th>mean</th>\n",
       "      <td>4.503254</td>\n",
       "      <td>2906.867438</td>\n",
       "      <td>64.933985</td>\n",
       "      <td>0.659566</td>\n",
       "      <td>4.402484</td>\n",
       "      <td>13.201066</td>\n",
       "      <td>3.758416</td>\n",
       "      <td>1.518679</td>\n",
       "      <td>0.521852</td>\n",
       "    </tr>\n",
       "    <tr>\n",
       "      <th>std</th>\n",
       "      <td>2.474324</td>\n",
       "      <td>133.300164</td>\n",
       "      <td>30.302530</td>\n",
       "      <td>0.252703</td>\n",
       "      <td>5.274947</td>\n",
       "      <td>7.132846</td>\n",
       "      <td>0.847002</td>\n",
       "      <td>0.499711</td>\n",
       "      <td>0.286644</td>\n",
       "    </tr>\n",
       "    <tr>\n",
       "      <th>min</th>\n",
       "      <td>1.000000</td>\n",
       "      <td>2573.500000</td>\n",
       "      <td>10.149000</td>\n",
       "      <td>-0.025949</td>\n",
       "      <td>-21.832000</td>\n",
       "      <td>0.550000</td>\n",
       "      <td>0.200000</td>\n",
       "      <td>1.000000</td>\n",
       "      <td>0.000000</td>\n",
       "    </tr>\n",
       "    <tr>\n",
       "      <th>25%</th>\n",
       "      <td>2.000000</td>\n",
       "      <td>2821.500000</td>\n",
       "      <td>44.730000</td>\n",
       "      <td>0.498000</td>\n",
       "      <td>1.600000</td>\n",
       "      <td>8.500000</td>\n",
       "      <td>3.200000</td>\n",
       "      <td>1.000000</td>\n",
       "      <td>0.277000</td>\n",
       "    </tr>\n",
       "    <tr>\n",
       "      <th>50%</th>\n",
       "      <td>4.000000</td>\n",
       "      <td>2932.500000</td>\n",
       "      <td>64.990000</td>\n",
       "      <td>0.639000</td>\n",
       "      <td>4.300000</td>\n",
       "      <td>12.020000</td>\n",
       "      <td>3.600000</td>\n",
       "      <td>2.000000</td>\n",
       "      <td>0.528000</td>\n",
       "    </tr>\n",
       "    <tr>\n",
       "      <th>75%</th>\n",
       "      <td>6.000000</td>\n",
       "      <td>3007.000000</td>\n",
       "      <td>79.438000</td>\n",
       "      <td>0.822000</td>\n",
       "      <td>7.500000</td>\n",
       "      <td>16.050000</td>\n",
       "      <td>4.317000</td>\n",
       "      <td>2.000000</td>\n",
       "      <td>0.769000</td>\n",
       "    </tr>\n",
       "    <tr>\n",
       "      <th>max</th>\n",
       "      <td>9.000000</td>\n",
       "      <td>3138.000000</td>\n",
       "      <td>361.150000</td>\n",
       "      <td>1.800000</td>\n",
       "      <td>19.312000</td>\n",
       "      <td>84.400000</td>\n",
       "      <td>8.094000</td>\n",
       "      <td>2.000000</td>\n",
       "      <td>1.000000</td>\n",
       "    </tr>\n",
       "  </tbody>\n",
       "</table>\n",
       "</div>"
      ],
      "text/plain": [
       "            Facies        Depth           GR    ILD_log10     DeltaPHI  \\\n",
       "count  4149.000000  4149.000000  4149.000000  4149.000000  4149.000000   \n",
       "mean      4.503254  2906.867438    64.933985     0.659566     4.402484   \n",
       "std       2.474324   133.300164    30.302530     0.252703     5.274947   \n",
       "min       1.000000  2573.500000    10.149000    -0.025949   -21.832000   \n",
       "25%       2.000000  2821.500000    44.730000     0.498000     1.600000   \n",
       "50%       4.000000  2932.500000    64.990000     0.639000     4.300000   \n",
       "75%       6.000000  3007.000000    79.438000     0.822000     7.500000   \n",
       "max       9.000000  3138.000000   361.150000     1.800000    19.312000   \n",
       "\n",
       "             PHIND           PE         NM_M       RELPOS  \n",
       "count  4149.000000  4137.000000  4149.000000  4149.000000  \n",
       "mean     13.201066     3.758416     1.518679     0.521852  \n",
       "std       7.132846     0.847002     0.499711     0.286644  \n",
       "min       0.550000     0.200000     1.000000     0.000000  \n",
       "25%       8.500000     3.200000     1.000000     0.277000  \n",
       "50%      12.020000     3.600000     2.000000     0.528000  \n",
       "75%      16.050000     4.317000     2.000000     0.769000  \n",
       "max      84.400000     8.094000     2.000000     1.000000  "
      ]
     },
     "execution_count": 3,
     "metadata": {},
     "output_type": "execute_result"
    }
   ],
   "source": [
    "from pandas import set_option\n",
    "set_option(\"display.max_rows\", 10)\n",
    "pd.options.mode.chained_assignment = None\n",
    "\n",
    "filename = 'facies_vectors_complete.csv'\n",
    "all_data = pd.read_csv(filename)\n",
    "all_data.describe()"
   ]
  },
  {
   "cell_type": "code",
   "execution_count": 4,
   "metadata": {},
   "outputs": [
    {
     "name": "stdout",
     "output_type": "stream",
     "text": [
      "The names of all 10 wells:\n",
      "[SHRIMPLIN, ALEXANDER D, SHANKLE, LUKE G U, KIMZEY A, CROSS H CATTLE, NOLAN, Recruit F9, NEWBY, CHURCHMAN BIBLE]\n",
      "Categories (10, object): [SHRIMPLIN, ALEXANDER D, SHANKLE, LUKE G U, ..., NOLAN, Recruit F9, NEWBY, CHURCHMAN BIBLE]\n"
     ]
    }
   ],
   "source": [
    "all_data['Well Name'] = all_data['Well Name'].astype('category')\n",
    "all_data['Formation'] = all_data['Formation'].astype('category')\n",
    "print(\"The names of all 10 wells:\")\n",
    "print(all_data['Well Name'].unique())"
   ]
  },
  {
   "cell_type": "code",
   "execution_count": 5,
   "metadata": {},
   "outputs": [],
   "source": [
    "all_data = all_data.dropna(axis=0)"
   ]
  },
  {
   "cell_type": "code",
   "execution_count": 6,
   "metadata": {},
   "outputs": [
    {
     "data": {
      "text/html": [
       "<div>\n",
       "<style scoped>\n",
       "    .dataframe tbody tr th:only-of-type {\n",
       "        vertical-align: middle;\n",
       "    }\n",
       "\n",
       "    .dataframe tbody tr th {\n",
       "        vertical-align: top;\n",
       "    }\n",
       "\n",
       "    .dataframe thead th {\n",
       "        text-align: right;\n",
       "    }\n",
       "</style>\n",
       "<table border=\"1\" class=\"dataframe\">\n",
       "  <thead>\n",
       "    <tr style=\"text-align: right;\">\n",
       "      <th></th>\n",
       "      <th>Facies</th>\n",
       "      <th>Depth</th>\n",
       "      <th>GR</th>\n",
       "      <th>ILD_log10</th>\n",
       "      <th>DeltaPHI</th>\n",
       "      <th>PHIND</th>\n",
       "      <th>PE</th>\n",
       "      <th>NM_M</th>\n",
       "      <th>RELPOS</th>\n",
       "    </tr>\n",
       "  </thead>\n",
       "  <tbody>\n",
       "    <tr>\n",
       "      <th>count</th>\n",
       "      <td>4137.000000</td>\n",
       "      <td>4137.000000</td>\n",
       "      <td>4137.000000</td>\n",
       "      <td>4137.000000</td>\n",
       "      <td>4137.000000</td>\n",
       "      <td>4137.000000</td>\n",
       "      <td>4137.000000</td>\n",
       "      <td>4137.000000</td>\n",
       "      <td>4137.000000</td>\n",
       "    </tr>\n",
       "    <tr>\n",
       "      <th>mean</th>\n",
       "      <td>4.490210</td>\n",
       "      <td>2906.492869</td>\n",
       "      <td>65.018896</td>\n",
       "      <td>0.659198</td>\n",
       "      <td>4.396208</td>\n",
       "      <td>13.210462</td>\n",
       "      <td>3.758416</td>\n",
       "      <td>1.517283</td>\n",
       "      <td>0.521791</td>\n",
       "    </tr>\n",
       "    <tr>\n",
       "      <th>std</th>\n",
       "      <td>2.466009</td>\n",
       "      <td>133.176827</td>\n",
       "      <td>30.290153</td>\n",
       "      <td>0.252039</td>\n",
       "      <td>5.276518</td>\n",
       "      <td>7.139950</td>\n",
       "      <td>0.847002</td>\n",
       "      <td>0.499762</td>\n",
       "      <td>0.286762</td>\n",
       "    </tr>\n",
       "    <tr>\n",
       "      <th>min</th>\n",
       "      <td>1.000000</td>\n",
       "      <td>2573.500000</td>\n",
       "      <td>10.149000</td>\n",
       "      <td>-0.025949</td>\n",
       "      <td>-21.832000</td>\n",
       "      <td>0.550000</td>\n",
       "      <td>0.200000</td>\n",
       "      <td>1.000000</td>\n",
       "      <td>0.000000</td>\n",
       "    </tr>\n",
       "    <tr>\n",
       "      <th>25%</th>\n",
       "      <td>2.000000</td>\n",
       "      <td>2821.500000</td>\n",
       "      <td>44.940000</td>\n",
       "      <td>0.498000</td>\n",
       "      <td>1.600000</td>\n",
       "      <td>8.500000</td>\n",
       "      <td>3.200000</td>\n",
       "      <td>1.000000</td>\n",
       "      <td>0.277000</td>\n",
       "    </tr>\n",
       "    <tr>\n",
       "      <th>50%</th>\n",
       "      <td>4.000000</td>\n",
       "      <td>2932.500000</td>\n",
       "      <td>65.107000</td>\n",
       "      <td>0.639000</td>\n",
       "      <td>4.300000</td>\n",
       "      <td>12.036000</td>\n",
       "      <td>3.600000</td>\n",
       "      <td>2.000000</td>\n",
       "      <td>0.527000</td>\n",
       "    </tr>\n",
       "    <tr>\n",
       "      <th>75%</th>\n",
       "      <td>6.000000</td>\n",
       "      <td>3006.500000</td>\n",
       "      <td>79.470000</td>\n",
       "      <td>0.822000</td>\n",
       "      <td>7.500000</td>\n",
       "      <td>16.066000</td>\n",
       "      <td>4.317000</td>\n",
       "      <td>2.000000</td>\n",
       "      <td>0.769000</td>\n",
       "    </tr>\n",
       "    <tr>\n",
       "      <th>max</th>\n",
       "      <td>9.000000</td>\n",
       "      <td>3138.000000</td>\n",
       "      <td>361.150000</td>\n",
       "      <td>1.800000</td>\n",
       "      <td>19.312000</td>\n",
       "      <td>84.400000</td>\n",
       "      <td>8.094000</td>\n",
       "      <td>2.000000</td>\n",
       "      <td>1.000000</td>\n",
       "    </tr>\n",
       "  </tbody>\n",
       "</table>\n",
       "</div>"
      ],
      "text/plain": [
       "            Facies        Depth           GR    ILD_log10     DeltaPHI  \\\n",
       "count  4137.000000  4137.000000  4137.000000  4137.000000  4137.000000   \n",
       "mean      4.490210  2906.492869    65.018896     0.659198     4.396208   \n",
       "std       2.466009   133.176827    30.290153     0.252039     5.276518   \n",
       "min       1.000000  2573.500000    10.149000    -0.025949   -21.832000   \n",
       "25%       2.000000  2821.500000    44.940000     0.498000     1.600000   \n",
       "50%       4.000000  2932.500000    65.107000     0.639000     4.300000   \n",
       "75%       6.000000  3006.500000    79.470000     0.822000     7.500000   \n",
       "max       9.000000  3138.000000   361.150000     1.800000    19.312000   \n",
       "\n",
       "             PHIND           PE         NM_M       RELPOS  \n",
       "count  4137.000000  4137.000000  4137.000000  4137.000000  \n",
       "mean     13.210462     3.758416     1.517283     0.521791  \n",
       "std       7.139950     0.847002     0.499762     0.286762  \n",
       "min       0.550000     0.200000     1.000000     0.000000  \n",
       "25%       8.500000     3.200000     1.000000     0.277000  \n",
       "50%      12.036000     3.600000     2.000000     0.527000  \n",
       "75%      16.066000     4.317000     2.000000     0.769000  \n",
       "max      84.400000     8.094000     2.000000     1.000000  "
      ]
     },
     "execution_count": 6,
     "metadata": {},
     "output_type": "execute_result"
    }
   ],
   "source": [
    "# This shows that there are 12 points with NaNs that were removed\n",
    "all_data.describe()"
   ]
  },
  {
   "cell_type": "markdown",
   "metadata": {},
   "source": [
    "## Establish training and testing data\n",
    "* In accordance with the C&G publication, we only consider one well as training (and the remaining nine wells as testing data) to similate a semi-supervised scenario."
   ]
  },
  {
   "cell_type": "code",
   "execution_count": 7,
   "metadata": {},
   "outputs": [],
   "source": [
    "## Isolated ONE well for training\n",
    "train_data = all_data[(all_data['Well Name'] == 'KIMZEY A')]\n",
    "\n",
    "## The remaining wells are used for testing\n",
    "test_data = all_data[all_data['Well Name'] != 'KIMZEY A']"
   ]
  },
  {
   "cell_type": "markdown",
   "metadata": {},
   "source": [
    "## Standardizing the data\n",
    "* We consider RobustScaler instead of StandardScaler because there are outliers in the data and scaling based on the 'mean' could skew the data\n",
    "* We also determine the scaler from *all* the data (i.e. the training and the testing data) and use that scaler on both the training and testing sets"
   ]
  },
  {
   "cell_type": "code",
   "execution_count": 8,
   "metadata": {},
   "outputs": [],
   "source": [
    "all_data_feature_vectors = all_data.drop(['Formation', 'Well Name', 'Depth','Facies'], axis=1)\n",
    "scaler = RobustScaler(quantile_range=(25.0, 75.0), with_centering=True,with_scaling=True).fit(all_data_feature_vectors)"
   ]
  },
  {
   "cell_type": "code",
   "execution_count": 9,
   "metadata": {},
   "outputs": [],
   "source": [
    "#Training data\n",
    "train_data_y = train_data['Facies'].values\n",
    "train_data_X = train_data.drop(['Formation', 'Well Name', 'Depth','Facies'], axis=1)\n",
    "train_data_X = scaler.transform(train_data_X)\n",
    "\n",
    "#Testing data\n",
    "test_data_y = test_data['Facies'].values\n",
    "test_data_X = test_data.drop(['Formation', 'Well Name', 'Depth','Facies'], axis=1)\n",
    "test_data_X = scaler.transform(test_data_X)"
   ]
  },
  {
   "cell_type": "markdown",
   "metadata": {},
   "source": [
    "# Semi-supervised GMM on the global data"
   ]
  },
  {
   "cell_type": "code",
   "execution_count": 10,
   "metadata": {},
   "outputs": [],
   "source": [
    "########################\n",
    "### Loading the code ###\n",
    "########################\n",
    "import sys\n",
    "sys.path.append('../ssGMM_code/')\n",
    "from ssGMM import ss_GaussianMixtureModels"
   ]
  },
  {
   "cell_type": "code",
   "execution_count": 11,
   "metadata": {},
   "outputs": [
    {
     "name": "stdout",
     "output_type": "stream",
     "text": [
      "Number of labeled data: 439\n",
      "Number of unlabeled data: 3698\n",
      "Max number of iterations reached\n",
      "The number of iterations used:  50\n",
      "The objective function: \n",
      " [-25348.535291136854, -11948.594886260049, -11477.081086070812, -10486.43698469913, -10836.434775900834, -10500.208015019625, -11852.389628888026, -7504.983849041726, -7765.612508194832, -12042.45326905249, -4232.986825945657, -7756.644121056518, -11044.997782468798, 362.52578757061224, -8640.786133541076, -11254.678679077953, -9810.366590946222, -10302.291837966179, -11258.413658161431, -5401.852708068183, -10130.599914314364, -11607.408536929059, -7439.745159242911, -9807.09828265098, -4992.451785775957, -6315.695681753388, -11046.996516435125, -11368.15323832743, -7221.222694417086, -8631.887021370589, -9412.0535779152, -4557.604328031628, -6253.366782175773, -10643.155716222056, -11540.580740612264, -8113.316693381768, -9674.27967578287, -10860.419256553945, -9496.542279775089, -9878.337383391141, -10210.247305751665, -9133.039551979775, -8342.12695118794, -9165.546753920107, -9735.968520903432, -6853.316673994528, -9401.915155598886, -9112.175917612734, -7620.9730504460595, -9308.25872665954, -9407.404739228978]\n",
      "Standard accuracy metric of Semi-supervised GMM using beta = 0.5, and tol = 0.0316: 0.37533802055164955\n",
      "Number of misclassified points: 2310/3698\n",
      "\n"
     ]
    }
   ],
   "source": [
    "## Training the ssGMM algorithm using default values for beta & tol\n",
    "ss_GMMresults = ss_GaussianMixtureModels(train_data_X, train_data_y, test_data_X, test_data_y, beta = 0.50, tol = 0.0316, max_iterations = 50, early_stop = 'False')\n",
    "obj_global_data = ss_GMMresults[2]"
   ]
  },
  {
   "cell_type": "markdown",
   "metadata": {},
   "source": [
    "# Splitting the data based on the NM_M indicator\n",
    "\n",
    "* The objective function for ssGMM clearly does not converge (see above), and the underlying reason why is the NM_M indicator is a binary variable that violates the inherent Gaussian assumption for ssGMM\n",
    "\n",
    "* The solution (as discussed in Section 4.1 of our paper) is to break the dataset into two separate datasets based on the NM_M indicator."
   ]
  },
  {
   "cell_type": "markdown",
   "metadata": {},
   "source": [
    "### Non-marine data (NM_M = 1)\n",
    "* We filter the dataset by the NM_M value of 1 and this gives us all the data that corresponds to NM = 1\n",
    "* There is a strong correlation (~99%) between NM = 1 and non-marine facies (Classes 1-3), but this relationship is not perfect due to human error near the interfaces of different classes (i.e. the 31 points belonging to Classes 4-8)."
   ]
  },
  {
   "cell_type": "code",
   "execution_count": 12,
   "metadata": {},
   "outputs": [
    {
     "data": {
      "text/plain": [
       "2    934\n",
       "3    764\n",
       "1    268\n",
       "8     12\n",
       "5     11\n",
       "4      5\n",
       "6      2\n",
       "7      1\n",
       "Name: Facies, dtype: int64"
      ]
     },
     "execution_count": 12,
     "metadata": {},
     "output_type": "execute_result"
    }
   ],
   "source": [
    "filter1 = all_data['NM_M'] == 1\n",
    "NM_data = all_data[filter1]\n",
    "NM_data['Facies'].value_counts()"
   ]
  },
  {
   "cell_type": "code",
   "execution_count": 13,
   "metadata": {},
   "outputs": [],
   "source": [
    "## Isolating KIMZEY well for training\n",
    "NM_train_data = NM_data[(NM_data['Well Name'] == 'KIMZEY A')]\n",
    "\n",
    "## The remaining wells are used for testing\n",
    "NM_test_data = NM_data[NM_data['Well Name'] != 'KIMZEY A']"
   ]
  },
  {
   "cell_type": "code",
   "execution_count": 14,
   "metadata": {},
   "outputs": [],
   "source": [
    "## We use an individual scalar for the non-marine and marine datasets\n",
    "NM_data_X = NM_data.drop(['Formation', 'Well Name', 'Depth','Facies','NM_M'], axis=1)\n",
    "scaler_NM = RobustScaler(quantile_range=(25.0, 75.0), with_centering=True,with_scaling=True).fit(NM_data_X)\n",
    "\n",
    "#Training data\n",
    "NM_train_data_y = NM_train_data['Facies'].values\n",
    "NM_train_data_X = NM_train_data.drop(['Formation', 'Well Name', 'Depth','Facies','NM_M'], axis=1)\n",
    "NM_train_data_X = scaler_NM.transform(NM_train_data_X) # Local scaler\n",
    "\n",
    "#Testing data\n",
    "NM_test_data_y = NM_test_data['Facies'].values\n",
    "NM_test_data_X = NM_test_data.drop(['Formation', 'Well Name', 'Depth','Facies','NM_M'], axis=1)\n",
    "NM_test_data_X = scaler_NM.transform(NM_test_data_X) # Local scaler"
   ]
  },
  {
   "cell_type": "markdown",
   "metadata": {},
   "source": [
    "### Marine data (NM_M = 2)\n",
    "* We filter the dataset by the NM_M value of 2 and this gives us all the data that corresponds to NM = 2\n",
    "* There is a strong correlation (~99%) between M = 2 and marine facies (Classes 4-9), but this relationship is not perfect due to human error near the interfaces of different classes (i.e. the 22 points beloning to Classes 2 and 3)."
   ]
  },
  {
   "cell_type": "code",
   "execution_count": 15,
   "metadata": {},
   "outputs": [
    {
     "data": {
      "text/plain": [
       "8    674\n",
       "6    580\n",
       "5    285\n",
       "4    266\n",
       "9    173\n",
       "7    140\n",
       "3     16\n",
       "2      6\n",
       "Name: Facies, dtype: int64"
      ]
     },
     "execution_count": 15,
     "metadata": {},
     "output_type": "execute_result"
    }
   ],
   "source": [
    "filter2 = all_data['NM_M'] == 2\n",
    "M_data = all_data[filter2]\n",
    "M_data['Facies'].value_counts()"
   ]
  },
  {
   "cell_type": "code",
   "execution_count": 16,
   "metadata": {},
   "outputs": [],
   "source": [
    "## Isolating KIMZEY well for training\n",
    "M_train_data = M_data[(M_data['Well Name'] == 'KIMZEY A')]\n",
    "\n",
    "## The remaining wells are used for testing\n",
    "M_test_data = M_data[M_data['Well Name'] != 'KIMZEY A']"
   ]
  },
  {
   "cell_type": "code",
   "execution_count": 17,
   "metadata": {},
   "outputs": [],
   "source": [
    "M_data_X = M_data.drop(['Formation', 'Well Name', 'Depth','Facies','NM_M'], axis=1)\n",
    "scaler_M = RobustScaler(quantile_range=(25.0, 75.0), with_centering=True,with_scaling=True).fit(M_data_X)\n",
    "\n",
    "#Training data\n",
    "M_train_data_y = M_train_data['Facies'].values\n",
    "M_train_data_X = M_train_data.drop(['Formation', 'Well Name', 'Depth','Facies','NM_M'], axis=1)\n",
    "M_train_data_X = scaler_M.transform(M_train_data_X) #local\n",
    "\n",
    "#Testing data\n",
    "M_test_data_y = M_test_data['Facies'].values\n",
    "M_test_data_X = M_test_data.drop(['Formation', 'Well Name', 'Depth','Facies','NM_M'], axis=1)\n",
    "M_test_data_X = scaler_M.transform(M_test_data_X) #local"
   ]
  },
  {
   "cell_type": "markdown",
   "metadata": {},
   "source": [
    "### Applying the ssGMM code to the two split datasets\n",
    "* With the 'global' dataset decomposed into non-marine and marine datasets, the NM_M indicator has been removed and we can test to determine if this variable was indeed causing the ssGMM algorithm to not converge"
   ]
  },
  {
   "cell_type": "code",
   "execution_count": 18,
   "metadata": {},
   "outputs": [
    {
     "name": "stdout",
     "output_type": "stream",
     "text": [
      "Number of labeled data: 168\n",
      "Number of unlabeled data: 1829\n",
      "The number of iterations used:  15\n",
      "The objective function: \n",
      " [-14806.581785147337, -6371.418166710952, -6238.350118772762, -6156.968232087986, -6118.682151805597, -6098.068576541428, -6083.525089951674, -6071.767157472279, -6061.361680449171, -6050.920623135684, -6037.185021484495, -6008.731995101003, -5962.587530776376, -5938.846548386852, -5929.885210010688, -5928.139556093332]\n",
      "Standard accuracy metric of Semi-supervised GMM using beta = 0.5, and tol = 0.0316: 0.5549480590486605\n",
      "Number of misclassified points: 814/1829\n",
      "\n",
      "Number of labeled data: 271\n",
      "Number of unlabeled data: 1869\n",
      "The number of iterations used:  17\n",
      "The objective function: \n",
      " [-12821.455572611725, -6846.006385600426, -6769.833862661827, -6727.865646962988, -6694.935051796725, -6675.59633296331, -6658.268289396091, -6647.252871522457, -6641.122709311554, -6637.1056606148595, -6633.881405379947, -6631.061018335223, -6628.50506397316, -6626.170968789268, -6623.982485294934, -6621.80253982748, -6619.640785771087, -6617.767430177165]\n",
      "Standard accuracy metric of Semi-supervised GMM using beta = 0.5, and tol = 0.0316: 0.31835205992509363\n",
      "Number of misclassified points: 1274/1869\n",
      "\n"
     ]
    }
   ],
   "source": [
    "ss_GMMresults_NM = ss_GaussianMixtureModels(NM_train_data_X, NM_train_data_y, NM_test_data_X, NM_test_data_y, beta = 0.50, tol = 0.0316, max_iterations = 50, early_stop = 'False')\n",
    "obj_NM_data = ss_GMMresults_NM[2]\n",
    "\n",
    "ss_GMMresults_M = ss_GaussianMixtureModels(M_train_data_X, M_train_data_y, M_test_data_X, M_test_data_y, beta = 0.50, tol = 0.0316, max_iterations = 50, early_stop = 'False')\n",
    "obj_M_data = ss_GMMresults_M[2]"
   ]
  },
  {
   "cell_type": "markdown",
   "metadata": {},
   "source": [
    "# Plotting the objective function values\n",
    "* The figure below plots the ssGMM objective function values when trained on the global data, and also the split non-marine and marine data.\n",
    "* Clearly, splitting the NM_M indicator is the underlying cause for causing the ssGMM method to not converge because the objective function for the split datasets behaves and converges very well.\n",
    "* The Figure below is Figure 4 in the C&G publication.\n",
    "* **This data decomposition procedure is used for the subsequent results in the Part III Jupyter-notebook**"
   ]
  },
  {
   "cell_type": "code",
   "execution_count": 21,
   "metadata": {},
   "outputs": [
    {
     "data": {
      "image/png": "[encoded data removed]",
      "text/plain": [
       "<Figure size 432x360 with 1 Axes>"
      ]
     },
     "metadata": {
      "needs_background": "light"
     },
     "output_type": "display_data"
    }
   ],
   "source": [
    "plt.plot(np.linspace(0, len(obj_global_data) - 1, len(obj_global_data)), np.array(obj_global_data)/1000, 'ko--', label=\"Global objective function\")\n",
    "plt.plot(np.linspace(0, len(obj_NM_data) - 1, len(obj_NM_data)), np.array(obj_NM_data)/1000, 'go--', label=\"Non-marine objective function\")\n",
    "plt.plot(np.linspace(0, len(obj_M_data) - 1, len(obj_M_data)), np.array(obj_M_data)/1000, 'bo-', label=\"Marine objective function\")\n",
    "\n",
    "plt.xlabel(\"Iterations\", fontsize = 18)\n",
    "plt.ylabel(\"Objective function value ($10^{3}$)\", fontsize = 18)\n",
    "plt.tick_params(labelsize = 14)\n",
    "plt.rcParams[\"figure.figsize\"] = [6,5]\n",
    "plt.legend(fontsize = 14)\n",
    "#plt.savefig(\"Figures/Figure4.png\",bbox_inches=\"tight\", dpi = 600)\n",
    "plt.show()"
   ]
  },
  {
   "cell_type": "code",
   "execution_count": null,
   "metadata": {},
   "outputs": [],
   "source": []
  }
 ],
 "metadata": {
  "anaconda-cloud": {},
  "kernelspec": {
   "display_name": "Python 3",
   "language": "python",
   "name": "python3"
  },
  "language_info": {
   "codemirror_mode": {
    "name": "ipython",
    "version": 3
   },
   "file_extension": ".py",
   "mimetype": "text/x-python",
   "name": "python",
   "nbconvert_exporter": "python",
   "pygments_lexer": "ipython3",
   "version": "3.7.3"
  }
 },
 "nbformat": 4,
 "nbformat_minor": 1
}
